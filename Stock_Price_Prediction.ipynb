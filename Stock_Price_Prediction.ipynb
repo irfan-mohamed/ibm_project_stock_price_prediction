{
  "nbformat": 4,
  "nbformat_minor": 0,
  "metadata": {
    "colab": {
      "provenance": []
    },
    "kernelspec": {
      "name": "python3",
      "display_name": "Python 3"
    },
    "language_info": {
      "name": "python"
    }
  },
  "cells": [
    {
      "cell_type": "markdown",
      "source": [
        "#Data Collection\n",
        "\n"
      ],
      "metadata": {
        "id": "ENXlYskvE9Pz"
      }
    },
    {
      "cell_type": "code",
      "source": [
        "import pandas as pd\n",
        "import numpy as np\n",
        "import matplotlib.pyplot as plt\n",
        "from sklearn.preprocessing import MinMaxScaler\n",
        "from sklearn.metrics import mean_absolute_error, mean_squared_error\n",
        "from tensorflow.keras.models import Sequential\n",
        "from tensorflow.keras.layers import LSTM, Dense\n",
        "\n",
        "data = pd.read_csv('/content/MSFT.csv')\n",
        "data['Date'] = pd.to_datetime(data['Date'])\n",
        "data.set_index('Date', inplace=True)"
      ],
      "metadata": {
        "id": "7qk6gvKq0P78"
      },
      "execution_count": 1,
      "outputs": []
    },
    {
      "cell_type": "code",
      "source": [
        "data.info()"
      ],
      "metadata": {
        "id": "0qnkobLG2tCv",
        "colab": {
          "base_uri": "https://localhost:8080/"
        },
        "outputId": "bb05da1c-9e52-4806-a1b1-a277066db417"
      },
      "execution_count": 2,
      "outputs": [
        {
          "output_type": "stream",
          "name": "stdout",
          "text": [
            "<class 'pandas.core.frame.DataFrame'>\n",
            "DatetimeIndex: 8525 entries, 1986-03-13 to 2020-01-07\n",
            "Data columns (total 6 columns):\n",
            " #   Column     Non-Null Count  Dtype  \n",
            "---  ------     --------------  -----  \n",
            " 0   Open       8525 non-null   float64\n",
            " 1   High       8525 non-null   float64\n",
            " 2   Low        8525 non-null   float64\n",
            " 3   Close      8525 non-null   float64\n",
            " 4   Adj Close  8525 non-null   float64\n",
            " 5   Volume     8525 non-null   int64  \n",
            "dtypes: float64(5), int64(1)\n",
            "memory usage: 466.2 KB\n"
          ]
        }
      ]
    },
    {
      "cell_type": "code",
      "source": [
        "data.shape"
      ],
      "metadata": {
        "id": "3u9ln0Kv7tjM",
        "colab": {
          "base_uri": "https://localhost:8080/"
        },
        "outputId": "69b766eb-297b-4d17-9b4f-68017923ac36"
      },
      "execution_count": 3,
      "outputs": [
        {
          "output_type": "execute_result",
          "data": {
            "text/plain": [
              "(8525, 6)"
            ]
          },
          "metadata": {},
          "execution_count": 3
        }
      ]
    },
    {
      "cell_type": "code",
      "source": [
        "data.head(10)"
      ],
      "metadata": {
        "id": "kTDpbK1h24a3",
        "colab": {
          "base_uri": "https://localhost:8080/",
          "height": 394
        },
        "outputId": "e27f3198-ef10-4dbd-f397-fa61ac216a6b"
      },
      "execution_count": 4,
      "outputs": [
        {
          "output_type": "execute_result",
          "data": {
            "text/plain": [
              "                Open      High       Low     Close  Adj Close      Volume\n",
              "Date                                                                     \n",
              "1986-03-13  0.088542  0.101563  0.088542  0.097222   0.062549  1031788800\n",
              "1986-03-14  0.097222  0.102431  0.097222  0.100694   0.064783   308160000\n",
              "1986-03-17  0.100694  0.103299  0.100694  0.102431   0.065899   133171200\n",
              "1986-03-18  0.102431  0.103299  0.098958  0.099826   0.064224    67766400\n",
              "1986-03-19  0.099826  0.100694  0.097222  0.098090   0.063107    47894400\n",
              "1986-03-20  0.098090  0.098090  0.094618  0.095486   0.061432    58435200\n",
              "1986-03-21  0.095486  0.097222  0.091146  0.092882   0.059756    59990400\n",
              "1986-03-24  0.092882  0.092882  0.089410  0.090278   0.058081    65289600\n",
              "1986-03-25  0.090278  0.092014  0.089410  0.092014   0.059198    32083200\n",
              "1986-03-26  0.092014  0.095486  0.091146  0.094618   0.060873    22752000"
            ],
            "text/html": [
              "\n",
              "  <div id=\"df-2783c790-848b-4cb4-8802-58762f60e337\" class=\"colab-df-container\">\n",
              "    <div>\n",
              "<style scoped>\n",
              "    .dataframe tbody tr th:only-of-type {\n",
              "        vertical-align: middle;\n",
              "    }\n",
              "\n",
              "    .dataframe tbody tr th {\n",
              "        vertical-align: top;\n",
              "    }\n",
              "\n",
              "    .dataframe thead th {\n",
              "        text-align: right;\n",
              "    }\n",
              "</style>\n",
              "<table border=\"1\" class=\"dataframe\">\n",
              "  <thead>\n",
              "    <tr style=\"text-align: right;\">\n",
              "      <th></th>\n",
              "      <th>Open</th>\n",
              "      <th>High</th>\n",
              "      <th>Low</th>\n",
              "      <th>Close</th>\n",
              "      <th>Adj Close</th>\n",
              "      <th>Volume</th>\n",
              "    </tr>\n",
              "    <tr>\n",
              "      <th>Date</th>\n",
              "      <th></th>\n",
              "      <th></th>\n",
              "      <th></th>\n",
              "      <th></th>\n",
              "      <th></th>\n",
              "      <th></th>\n",
              "    </tr>\n",
              "  </thead>\n",
              "  <tbody>\n",
              "    <tr>\n",
              "      <th>1986-03-13</th>\n",
              "      <td>0.088542</td>\n",
              "      <td>0.101563</td>\n",
              "      <td>0.088542</td>\n",
              "      <td>0.097222</td>\n",
              "      <td>0.062549</td>\n",
              "      <td>1031788800</td>\n",
              "    </tr>\n",
              "    <tr>\n",
              "      <th>1986-03-14</th>\n",
              "      <td>0.097222</td>\n",
              "      <td>0.102431</td>\n",
              "      <td>0.097222</td>\n",
              "      <td>0.100694</td>\n",
              "      <td>0.064783</td>\n",
              "      <td>308160000</td>\n",
              "    </tr>\n",
              "    <tr>\n",
              "      <th>1986-03-17</th>\n",
              "      <td>0.100694</td>\n",
              "      <td>0.103299</td>\n",
              "      <td>0.100694</td>\n",
              "      <td>0.102431</td>\n",
              "      <td>0.065899</td>\n",
              "      <td>133171200</td>\n",
              "    </tr>\n",
              "    <tr>\n",
              "      <th>1986-03-18</th>\n",
              "      <td>0.102431</td>\n",
              "      <td>0.103299</td>\n",
              "      <td>0.098958</td>\n",
              "      <td>0.099826</td>\n",
              "      <td>0.064224</td>\n",
              "      <td>67766400</td>\n",
              "    </tr>\n",
              "    <tr>\n",
              "      <th>1986-03-19</th>\n",
              "      <td>0.099826</td>\n",
              "      <td>0.100694</td>\n",
              "      <td>0.097222</td>\n",
              "      <td>0.098090</td>\n",
              "      <td>0.063107</td>\n",
              "      <td>47894400</td>\n",
              "    </tr>\n",
              "    <tr>\n",
              "      <th>1986-03-20</th>\n",
              "      <td>0.098090</td>\n",
              "      <td>0.098090</td>\n",
              "      <td>0.094618</td>\n",
              "      <td>0.095486</td>\n",
              "      <td>0.061432</td>\n",
              "      <td>58435200</td>\n",
              "    </tr>\n",
              "    <tr>\n",
              "      <th>1986-03-21</th>\n",
              "      <td>0.095486</td>\n",
              "      <td>0.097222</td>\n",
              "      <td>0.091146</td>\n",
              "      <td>0.092882</td>\n",
              "      <td>0.059756</td>\n",
              "      <td>59990400</td>\n",
              "    </tr>\n",
              "    <tr>\n",
              "      <th>1986-03-24</th>\n",
              "      <td>0.092882</td>\n",
              "      <td>0.092882</td>\n",
              "      <td>0.089410</td>\n",
              "      <td>0.090278</td>\n",
              "      <td>0.058081</td>\n",
              "      <td>65289600</td>\n",
              "    </tr>\n",
              "    <tr>\n",
              "      <th>1986-03-25</th>\n",
              "      <td>0.090278</td>\n",
              "      <td>0.092014</td>\n",
              "      <td>0.089410</td>\n",
              "      <td>0.092014</td>\n",
              "      <td>0.059198</td>\n",
              "      <td>32083200</td>\n",
              "    </tr>\n",
              "    <tr>\n",
              "      <th>1986-03-26</th>\n",
              "      <td>0.092014</td>\n",
              "      <td>0.095486</td>\n",
              "      <td>0.091146</td>\n",
              "      <td>0.094618</td>\n",
              "      <td>0.060873</td>\n",
              "      <td>22752000</td>\n",
              "    </tr>\n",
              "  </tbody>\n",
              "</table>\n",
              "</div>\n",
              "    <div class=\"colab-df-buttons\">\n",
              "\n",
              "  <div class=\"colab-df-container\">\n",
              "    <button class=\"colab-df-convert\" onclick=\"convertToInteractive('df-2783c790-848b-4cb4-8802-58762f60e337')\"\n",
              "            title=\"Convert this dataframe to an interactive table.\"\n",
              "            style=\"display:none;\">\n",
              "\n",
              "  <svg xmlns=\"http://www.w3.org/2000/svg\" height=\"24px\" viewBox=\"0 -960 960 960\">\n",
              "    <path d=\"M120-120v-720h720v720H120Zm60-500h600v-160H180v160Zm220 220h160v-160H400v160Zm0 220h160v-160H400v160ZM180-400h160v-160H180v160Zm440 0h160v-160H620v160ZM180-180h160v-160H180v160Zm440 0h160v-160H620v160Z\"/>\n",
              "  </svg>\n",
              "    </button>\n",
              "\n",
              "  <style>\n",
              "    .colab-df-container {\n",
              "      display:flex;\n",
              "      gap: 12px;\n",
              "    }\n",
              "\n",
              "    .colab-df-convert {\n",
              "      background-color: #E8F0FE;\n",
              "      border: none;\n",
              "      border-radius: 50%;\n",
              "      cursor: pointer;\n",
              "      display: none;\n",
              "      fill: #1967D2;\n",
              "      height: 32px;\n",
              "      padding: 0 0 0 0;\n",
              "      width: 32px;\n",
              "    }\n",
              "\n",
              "    .colab-df-convert:hover {\n",
              "      background-color: #E2EBFA;\n",
              "      box-shadow: 0px 1px 2px rgba(60, 64, 67, 0.3), 0px 1px 3px 1px rgba(60, 64, 67, 0.15);\n",
              "      fill: #174EA6;\n",
              "    }\n",
              "\n",
              "    .colab-df-buttons div {\n",
              "      margin-bottom: 4px;\n",
              "    }\n",
              "\n",
              "    [theme=dark] .colab-df-convert {\n",
              "      background-color: #3B4455;\n",
              "      fill: #D2E3FC;\n",
              "    }\n",
              "\n",
              "    [theme=dark] .colab-df-convert:hover {\n",
              "      background-color: #434B5C;\n",
              "      box-shadow: 0px 1px 3px 1px rgba(0, 0, 0, 0.15);\n",
              "      filter: drop-shadow(0px 1px 2px rgba(0, 0, 0, 0.3));\n",
              "      fill: #FFFFFF;\n",
              "    }\n",
              "  </style>\n",
              "\n",
              "    <script>\n",
              "      const buttonEl =\n",
              "        document.querySelector('#df-2783c790-848b-4cb4-8802-58762f60e337 button.colab-df-convert');\n",
              "      buttonEl.style.display =\n",
              "        google.colab.kernel.accessAllowed ? 'block' : 'none';\n",
              "\n",
              "      async function convertToInteractive(key) {\n",
              "        const element = document.querySelector('#df-2783c790-848b-4cb4-8802-58762f60e337');\n",
              "        const dataTable =\n",
              "          await google.colab.kernel.invokeFunction('convertToInteractive',\n",
              "                                                    [key], {});\n",
              "        if (!dataTable) return;\n",
              "\n",
              "        const docLinkHtml = 'Like what you see? Visit the ' +\n",
              "          '<a target=\"_blank\" href=https://colab.research.google.com/notebooks/data_table.ipynb>data table notebook</a>'\n",
              "          + ' to learn more about interactive tables.';\n",
              "        element.innerHTML = '';\n",
              "        dataTable['output_type'] = 'display_data';\n",
              "        await google.colab.output.renderOutput(dataTable, element);\n",
              "        const docLink = document.createElement('div');\n",
              "        docLink.innerHTML = docLinkHtml;\n",
              "        element.appendChild(docLink);\n",
              "      }\n",
              "    </script>\n",
              "  </div>\n",
              "\n",
              "\n",
              "<div id=\"df-0b04766e-91fa-4f03-be56-16305496e523\">\n",
              "  <button class=\"colab-df-quickchart\" onclick=\"quickchart('df-0b04766e-91fa-4f03-be56-16305496e523')\"\n",
              "            title=\"Suggest charts.\"\n",
              "            style=\"display:none;\">\n",
              "\n",
              "<svg xmlns=\"http://www.w3.org/2000/svg\" height=\"24px\"viewBox=\"0 0 24 24\"\n",
              "     width=\"24px\">\n",
              "    <g>\n",
              "        <path d=\"M19 3H5c-1.1 0-2 .9-2 2v14c0 1.1.9 2 2 2h14c1.1 0 2-.9 2-2V5c0-1.1-.9-2-2-2zM9 17H7v-7h2v7zm4 0h-2V7h2v10zm4 0h-2v-4h2v4z\"/>\n",
              "    </g>\n",
              "</svg>\n",
              "  </button>\n",
              "\n",
              "<style>\n",
              "  .colab-df-quickchart {\n",
              "      --bg-color: #E8F0FE;\n",
              "      --fill-color: #1967D2;\n",
              "      --hover-bg-color: #E2EBFA;\n",
              "      --hover-fill-color: #174EA6;\n",
              "      --disabled-fill-color: #AAA;\n",
              "      --disabled-bg-color: #DDD;\n",
              "  }\n",
              "\n",
              "  [theme=dark] .colab-df-quickchart {\n",
              "      --bg-color: #3B4455;\n",
              "      --fill-color: #D2E3FC;\n",
              "      --hover-bg-color: #434B5C;\n",
              "      --hover-fill-color: #FFFFFF;\n",
              "      --disabled-bg-color: #3B4455;\n",
              "      --disabled-fill-color: #666;\n",
              "  }\n",
              "\n",
              "  .colab-df-quickchart {\n",
              "    background-color: var(--bg-color);\n",
              "    border: none;\n",
              "    border-radius: 50%;\n",
              "    cursor: pointer;\n",
              "    display: none;\n",
              "    fill: var(--fill-color);\n",
              "    height: 32px;\n",
              "    padding: 0;\n",
              "    width: 32px;\n",
              "  }\n",
              "\n",
              "  .colab-df-quickchart:hover {\n",
              "    background-color: var(--hover-bg-color);\n",
              "    box-shadow: 0 1px 2px rgba(60, 64, 67, 0.3), 0 1px 3px 1px rgba(60, 64, 67, 0.15);\n",
              "    fill: var(--button-hover-fill-color);\n",
              "  }\n",
              "\n",
              "  .colab-df-quickchart-complete:disabled,\n",
              "  .colab-df-quickchart-complete:disabled:hover {\n",
              "    background-color: var(--disabled-bg-color);\n",
              "    fill: var(--disabled-fill-color);\n",
              "    box-shadow: none;\n",
              "  }\n",
              "\n",
              "  .colab-df-spinner {\n",
              "    border: 2px solid var(--fill-color);\n",
              "    border-color: transparent;\n",
              "    border-bottom-color: var(--fill-color);\n",
              "    animation:\n",
              "      spin 1s steps(1) infinite;\n",
              "  }\n",
              "\n",
              "  @keyframes spin {\n",
              "    0% {\n",
              "      border-color: transparent;\n",
              "      border-bottom-color: var(--fill-color);\n",
              "      border-left-color: var(--fill-color);\n",
              "    }\n",
              "    20% {\n",
              "      border-color: transparent;\n",
              "      border-left-color: var(--fill-color);\n",
              "      border-top-color: var(--fill-color);\n",
              "    }\n",
              "    30% {\n",
              "      border-color: transparent;\n",
              "      border-left-color: var(--fill-color);\n",
              "      border-top-color: var(--fill-color);\n",
              "      border-right-color: var(--fill-color);\n",
              "    }\n",
              "    40% {\n",
              "      border-color: transparent;\n",
              "      border-right-color: var(--fill-color);\n",
              "      border-top-color: var(--fill-color);\n",
              "    }\n",
              "    60% {\n",
              "      border-color: transparent;\n",
              "      border-right-color: var(--fill-color);\n",
              "    }\n",
              "    80% {\n",
              "      border-color: transparent;\n",
              "      border-right-color: var(--fill-color);\n",
              "      border-bottom-color: var(--fill-color);\n",
              "    }\n",
              "    90% {\n",
              "      border-color: transparent;\n",
              "      border-bottom-color: var(--fill-color);\n",
              "    }\n",
              "  }\n",
              "</style>\n",
              "\n",
              "  <script>\n",
              "    async function quickchart(key) {\n",
              "      const quickchartButtonEl =\n",
              "        document.querySelector('#' + key + ' button');\n",
              "      quickchartButtonEl.disabled = true;  // To prevent multiple clicks.\n",
              "      quickchartButtonEl.classList.add('colab-df-spinner');\n",
              "      try {\n",
              "        const charts = await google.colab.kernel.invokeFunction(\n",
              "            'suggestCharts', [key], {});\n",
              "      } catch (error) {\n",
              "        console.error('Error during call to suggestCharts:', error);\n",
              "      }\n",
              "      quickchartButtonEl.classList.remove('colab-df-spinner');\n",
              "      quickchartButtonEl.classList.add('colab-df-quickchart-complete');\n",
              "    }\n",
              "    (() => {\n",
              "      let quickchartButtonEl =\n",
              "        document.querySelector('#df-0b04766e-91fa-4f03-be56-16305496e523 button');\n",
              "      quickchartButtonEl.style.display =\n",
              "        google.colab.kernel.accessAllowed ? 'block' : 'none';\n",
              "    })();\n",
              "  </script>\n",
              "</div>\n",
              "    </div>\n",
              "  </div>\n"
            ]
          },
          "metadata": {},
          "execution_count": 4
        }
      ]
    },
    {
      "cell_type": "markdown",
      "source": [
        "# Data Preprocessing"
      ],
      "metadata": {
        "id": "e7TyndAV0W6Y"
      }
    },
    {
      "cell_type": "code",
      "source": [
        "data.fillna(method='ffill', inplace=True)\n",
        "\n",
        "scaler = MinMaxScaler()\n",
        "scaled_data = scaler.fit_transform(data)"
      ],
      "metadata": {
        "id": "u0ueOCu20rIf"
      },
      "execution_count": 5,
      "outputs": []
    },
    {
      "cell_type": "markdown",
      "source": [
        "# Feature Engineering"
      ],
      "metadata": {
        "id": "N4GPJio00wow"
      }
    },
    {
      "cell_type": "code",
      "source": [
        "sequence_length = 14\n",
        "X, y = [], []\n",
        "for i in range(sequence_length, len(scaled_data)):\n",
        "    X.append(scaled_data[i - sequence_length:i])\n",
        "    y.append(scaled_data[i, 3])  # Using 'close price' as the target\n",
        "\n",
        "X, y = np.array(X), np.array(y)"
      ],
      "metadata": {
        "id": "IM98qW6200mP"
      },
      "execution_count": 6,
      "outputs": []
    },
    {
      "cell_type": "markdown",
      "source": [
        "# Model Selection"
      ],
      "metadata": {
        "id": "00qeq6L5065N"
      }
    },
    {
      "cell_type": "code",
      "source": [
        "train_size = int(0.8 * len(X))\n",
        "X_train, X_test, y_train, y_test = X[:train_size], X[train_size:], y[:train_size], y[train_size:]"
      ],
      "metadata": {
        "id": "pjZbuCby06fA"
      },
      "execution_count": 7,
      "outputs": []
    },
    {
      "cell_type": "code",
      "source": [
        "X_train.shape"
      ],
      "metadata": {
        "id": "3U43T35J7Qlw",
        "colab": {
          "base_uri": "https://localhost:8080/"
        },
        "outputId": "2b92ba7b-bc07-4578-f807-cdc19ea6ea70"
      },
      "execution_count": 8,
      "outputs": [
        {
          "output_type": "execute_result",
          "data": {
            "text/plain": [
              "(6808, 14, 6)"
            ]
          },
          "metadata": {},
          "execution_count": 8
        }
      ]
    },
    {
      "cell_type": "code",
      "source": [
        "X_train"
      ],
      "metadata": {
        "id": "muNvhduV7h2I",
        "colab": {
          "base_uri": "https://localhost:8080/"
        },
        "outputId": "0fb99f04-79f2-425a-9754-42a5a48c7021"
      },
      "execution_count": 9,
      "outputs": [
        {
          "output_type": "execute_result",
          "data": {
            "text/plain": [
              "array([[[0.00000000e+00, 5.94442228e-05, 0.00000000e+00, 4.32567884e-05,\n",
              "         2.78272717e-05, 1.00000000e+00],\n",
              "        [5.44673742e-05, 6.48476772e-05, 5.48528812e-05, 6.48851826e-05,\n",
              "         4.17409075e-05, 2.97096179e-01],\n",
              "        [7.62543239e-05, 7.02511315e-05, 7.67940336e-05, 7.57056091e-05,\n",
              "         4.86914973e-05, 1.27119118e-01],\n",
              "        ...,\n",
              "        [4.90206368e-05, 2.70172717e-05, 3.29117287e-05, 3.24425913e-05,\n",
              "         2.08704537e-05, 1.02668830e-02],\n",
              "        [4.35738993e-05, 2.16138173e-05, 3.83970168e-05, 2.70354927e-05,\n",
              "         1.73889307e-05, 8.53242321e-03],\n",
              "        [3.81271619e-05, 3.24207260e-05, 3.83970168e-05, 3.24425913e-05,\n",
              "         2.08704537e-05, 2.40026856e-02]],\n",
              "\n",
              "       [[5.44673742e-05, 6.48476772e-05, 5.48528812e-05, 6.48851826e-05,\n",
              "         4.17409075e-05, 2.97096179e-01],\n",
              "        [7.62543239e-05, 7.02511315e-05, 7.67940336e-05, 7.57056091e-05,\n",
              "         4.86914973e-05, 1.27119118e-01],\n",
              "        [8.71540737e-05, 7.02511315e-05, 6.58234574e-05, 5.94780840e-05,\n",
              "         3.82593845e-05, 6.35875343e-02],\n",
              "        ...,\n",
              "        [4.35738993e-05, 2.16138173e-05, 3.83970168e-05, 2.70354927e-05,\n",
              "         1.73889307e-05, 8.53242321e-03],\n",
              "        [3.81271619e-05, 3.24207260e-05, 3.83970168e-05, 3.24425913e-05,\n",
              "         2.08704537e-05, 2.40026856e-02],\n",
              "        [4.90206368e-05, 4.32276347e-05, 4.93675930e-05, 3.78496898e-05,\n",
              "         2.43457486e-05, 2.01421138e-02]],\n",
              "\n",
              "       [[7.62543239e-05, 7.02511315e-05, 7.67940336e-05, 7.57056091e-05,\n",
              "         4.86914973e-05, 1.27119118e-01],\n",
              "        [8.71540737e-05, 7.02511315e-05, 6.58234574e-05, 5.94780840e-05,\n",
              "         3.82593845e-05, 6.35875343e-02],\n",
              "        [7.08075864e-05, 5.40345433e-05, 5.48528812e-05, 4.86638869e-05,\n",
              "         3.13025666e-05, 4.42846752e-02],\n",
              "        ...,\n",
              "        [3.81271619e-05, 3.24207260e-05, 3.83970168e-05, 3.24425913e-05,\n",
              "         2.08704537e-05, 2.40026856e-02],\n",
              "        [4.90206368e-05, 4.32276347e-05, 4.93675930e-05, 3.78496898e-05,\n",
              "         2.43457486e-05, 2.01421138e-02],\n",
              "        [4.90206368e-05, 3.24207260e-05, 4.93675930e-05, 3.78496898e-05,\n",
              "         2.43457486e-05, 2.35830582e-02]],\n",
              "\n",
              "       ...,\n",
              "\n",
              "       [[1.74769106e-01, 1.73545413e-01, 1.74299820e-01, 1.73050346e-01,\n",
              "         1.48080086e-01, 3.33404631e-02],\n",
              "        [1.74141595e-01, 1.73420922e-01, 1.74110230e-01, 1.73299514e-01,\n",
              "         1.48293125e-01, 3.58929049e-02],\n",
              "        [1.74329853e-01, 1.73856679e-01, 1.74805377e-01, 1.73361808e-01,\n",
              "         1.48346401e-01, 2.60221423e-02],\n",
              "        ...,\n",
              "        [1.76651613e-01, 1.75848735e-01, 1.77080387e-01, 1.74856858e-01,\n",
              "         1.49624668e-01, 2.47893898e-02],\n",
              "        [1.76024102e-01, 1.76533511e-01, 1.76890797e-01, 1.76165034e-01,\n",
              "         1.50743177e-01, 3.27769774e-02],\n",
              "        [1.77153616e-01, 1.77840792e-01, 1.78028299e-01, 1.77660084e-01,\n",
              "         1.52021487e-01, 5.16275714e-02]],\n",
              "\n",
              "       [[1.74141595e-01, 1.73420922e-01, 1.74110230e-01, 1.73299514e-01,\n",
              "         1.48293125e-01, 3.58929049e-02],\n",
              "        [1.74329853e-01, 1.73856679e-01, 1.74805377e-01, 1.73361808e-01,\n",
              "         1.48346401e-01, 2.60221423e-02],\n",
              "        [1.75145602e-01, 1.74728203e-01, 1.75942879e-01, 1.74732265e-01,\n",
              "         1.49518135e-01, 5.20753682e-02],\n",
              "        ...,\n",
              "        [1.76024102e-01, 1.76533511e-01, 1.76890797e-01, 1.76165034e-01,\n",
              "         1.50743177e-01, 3.27769774e-02],\n",
              "        [1.77153616e-01, 1.77840792e-01, 1.78028299e-01, 1.77660084e-01,\n",
              "         1.52021487e-01, 5.16275714e-02],\n",
              "        [1.79161623e-01, 1.77840792e-01, 1.78660251e-01, 1.77660084e-01,\n",
              "         1.52021487e-01, 2.61267578e-02]],\n",
              "\n",
              "       [[1.74329853e-01, 1.73856679e-01, 1.74805377e-01, 1.73361808e-01,\n",
              "         1.48346401e-01, 2.60221423e-02],\n",
              "        [1.75145602e-01, 1.74728203e-01, 1.75942879e-01, 1.74732265e-01,\n",
              "         1.49518135e-01, 5.20753682e-02],\n",
              "        [1.75333860e-01, 1.74728203e-01, 1.76258852e-01, 1.74109340e-01,\n",
              "         1.48985531e-01, 8.78170324e-02],\n",
              "        ...,\n",
              "        [1.77153616e-01, 1.77840792e-01, 1.78028299e-01, 1.77660084e-01,\n",
              "         1.52021487e-01, 5.16275714e-02],\n",
              "        [1.79161623e-01, 1.77840792e-01, 1.78660251e-01, 1.77660084e-01,\n",
              "         1.52021487e-01, 2.61267578e-02],\n",
              "        [1.78847878e-01, 1.79023576e-01, 1.79671358e-01, 1.78843653e-01,\n",
              "         1.53033415e-01, 2.54034834e-02]]])"
            ]
          },
          "metadata": {},
          "execution_count": 9
        }
      ]
    },
    {
      "cell_type": "markdown",
      "source": [
        "# Model Training"
      ],
      "metadata": {
        "id": "dZrmN14R1MV-"
      }
    },
    {
      "cell_type": "code",
      "source": [
        "model = Sequential()\n",
        "model.add(LSTM(200, return_sequences=True, input_shape=(X_train.shape[1], X_train.shape[2])))\n",
        "model.add(LSTM(200, return_sequences=False))\n",
        "model.add(Dense(1))\n",
        "\n",
        "model.compile(optimizer='adam', loss='mean_squared_error')\n",
        "model.fit(X_train, y_train, batch_size=64, epochs=50, verbose=1)"
      ],
      "metadata": {
        "id": "4fFm2SV_1Ozi",
        "colab": {
          "base_uri": "https://localhost:8080/"
        },
        "outputId": "62a878bb-3e15-455b-e4b7-032375dbf6ef"
      },
      "execution_count": 10,
      "outputs": [
        {
          "output_type": "stream",
          "name": "stdout",
          "text": [
            "Epoch 1/50\n",
            "107/107 [==============================] - 14s 94ms/step - loss: 4.5743e-04\n",
            "Epoch 2/50\n",
            "107/107 [==============================] - 10s 97ms/step - loss: 3.9455e-05\n",
            "Epoch 3/50\n",
            "107/107 [==============================] - 10s 95ms/step - loss: 3.9071e-05\n",
            "Epoch 4/50\n",
            "107/107 [==============================] - 9s 84ms/step - loss: 3.3671e-05\n",
            "Epoch 5/50\n",
            "107/107 [==============================] - 10s 94ms/step - loss: 3.2978e-05\n",
            "Epoch 6/50\n",
            "107/107 [==============================] - 10s 94ms/step - loss: 3.1667e-05\n",
            "Epoch 7/50\n",
            "107/107 [==============================] - 10s 94ms/step - loss: 2.8637e-05\n",
            "Epoch 8/50\n",
            "107/107 [==============================] - 9s 87ms/step - loss: 2.8614e-05\n",
            "Epoch 9/50\n",
            "107/107 [==============================] - 10s 91ms/step - loss: 2.5661e-05\n",
            "Epoch 10/50\n",
            "107/107 [==============================] - 10s 94ms/step - loss: 2.4598e-05\n",
            "Epoch 11/50\n",
            "107/107 [==============================] - 10s 94ms/step - loss: 2.5902e-05\n",
            "Epoch 12/50\n",
            "107/107 [==============================] - 10s 94ms/step - loss: 2.1859e-05\n",
            "Epoch 13/50\n",
            "107/107 [==============================] - 9s 84ms/step - loss: 2.2529e-05\n",
            "Epoch 14/50\n",
            "107/107 [==============================] - 10s 94ms/step - loss: 2.0832e-05\n",
            "Epoch 15/50\n",
            "107/107 [==============================] - 10s 95ms/step - loss: 2.1416e-05\n",
            "Epoch 16/50\n",
            "107/107 [==============================] - 10s 94ms/step - loss: 1.9934e-05\n",
            "Epoch 17/50\n",
            "107/107 [==============================] - 9s 84ms/step - loss: 2.2521e-05\n",
            "Epoch 18/50\n",
            "107/107 [==============================] - 10s 94ms/step - loss: 1.7298e-05\n",
            "Epoch 19/50\n",
            "107/107 [==============================] - 10s 94ms/step - loss: 1.7668e-05\n",
            "Epoch 20/50\n",
            "107/107 [==============================] - 11s 104ms/step - loss: 1.9553e-05\n",
            "Epoch 21/50\n",
            "107/107 [==============================] - 10s 90ms/step - loss: 1.7822e-05\n",
            "Epoch 22/50\n",
            "107/107 [==============================] - 9s 87ms/step - loss: 1.7127e-05\n",
            "Epoch 23/50\n",
            "107/107 [==============================] - 10s 94ms/step - loss: 1.5191e-05\n",
            "Epoch 24/50\n",
            "107/107 [==============================] - 10s 94ms/step - loss: 1.6182e-05\n",
            "Epoch 25/50\n",
            "107/107 [==============================] - 10s 94ms/step - loss: 1.4187e-05\n",
            "Epoch 26/50\n",
            "107/107 [==============================] - 9s 85ms/step - loss: 1.5675e-05\n",
            "Epoch 27/50\n",
            "107/107 [==============================] - 10s 95ms/step - loss: 1.4006e-05\n",
            "Epoch 28/50\n",
            "107/107 [==============================] - 10s 94ms/step - loss: 1.6460e-05\n",
            "Epoch 29/50\n",
            "107/107 [==============================] - 10s 94ms/step - loss: 1.5441e-05\n",
            "Epoch 30/50\n",
            "107/107 [==============================] - 9s 86ms/step - loss: 1.5845e-05\n",
            "Epoch 31/50\n",
            "107/107 [==============================] - 10s 92ms/step - loss: 1.3392e-05\n",
            "Epoch 32/50\n",
            "107/107 [==============================] - 10s 93ms/step - loss: 1.3639e-05\n",
            "Epoch 33/50\n",
            "107/107 [==============================] - 10s 94ms/step - loss: 1.4625e-05\n",
            "Epoch 34/50\n",
            "107/107 [==============================] - 10s 90ms/step - loss: 1.2163e-05\n",
            "Epoch 35/50\n",
            "107/107 [==============================] - 9s 87ms/step - loss: 1.2800e-05\n",
            "Epoch 36/50\n",
            "107/107 [==============================] - 10s 94ms/step - loss: 1.2877e-05\n",
            "Epoch 37/50\n",
            "107/107 [==============================] - 10s 94ms/step - loss: 1.2431e-05\n",
            "Epoch 38/50\n",
            "107/107 [==============================] - 10s 93ms/step - loss: 1.2563e-05\n",
            "Epoch 39/50\n",
            "107/107 [==============================] - 9s 84ms/step - loss: 1.2945e-05\n",
            "Epoch 40/50\n",
            "107/107 [==============================] - 10s 94ms/step - loss: 1.4562e-05\n",
            "Epoch 41/50\n",
            "107/107 [==============================] - 10s 93ms/step - loss: 1.2160e-05\n",
            "Epoch 42/50\n",
            "107/107 [==============================] - 10s 94ms/step - loss: 1.2939e-05\n",
            "Epoch 43/50\n",
            "107/107 [==============================] - 9s 85ms/step - loss: 1.3646e-05\n",
            "Epoch 44/50\n",
            "107/107 [==============================] - 10s 94ms/step - loss: 1.1656e-05\n",
            "Epoch 45/50\n",
            "107/107 [==============================] - 11s 104ms/step - loss: 1.2828e-05\n",
            "Epoch 46/50\n",
            "107/107 [==============================] - 10s 93ms/step - loss: 1.4076e-05\n",
            "Epoch 47/50\n",
            "107/107 [==============================] - 10s 93ms/step - loss: 1.1962e-05\n",
            "Epoch 48/50\n",
            "107/107 [==============================] - 9s 84ms/step - loss: 1.2865e-05\n",
            "Epoch 49/50\n",
            "107/107 [==============================] - 10s 94ms/step - loss: 1.2146e-05\n",
            "Epoch 50/50\n",
            "107/107 [==============================] - 10s 94ms/step - loss: 1.1498e-05\n"
          ]
        },
        {
          "output_type": "execute_result",
          "data": {
            "text/plain": [
              "<keras.src.callbacks.History at 0x7fc3e38cdb70>"
            ]
          },
          "metadata": {},
          "execution_count": 10
        }
      ]
    },
    {
      "cell_type": "markdown",
      "source": [
        "# Evaluation"
      ],
      "metadata": {
        "id": "IzWeTZ7B1U7c"
      }
    },
    {
      "cell_type": "code",
      "source": [
        "y_pred = model.predict(X_test)\n",
        "\n",
        "y_pred = scaler.inverse_transform(np.hstack((np.zeros((len(y_pred), scaled_data.shape[1] - 1)), y_pred)))\n",
        "y_test = scaler.inverse_transform(np.hstack((np.zeros((len(y_test), scaled_data.shape[1] - 1)), np.expand_dims(y_test, axis=1))))\n",
        "\n",
        "y_pred_close = y_pred[:, -1]\n",
        "y_test_close = y_test[:, -1]\n",
        "\n",
        "mae = mean_absolute_error(y_test_close, y_pred_close)\n",
        "rmse = np.sqrt(mean_squared_error(y_test_close, y_pred_close))\n",
        "\n",
        "print(f\"Mean Absolute Error: {mae}\")\n",
        "print(f\"Root Mean Squared Error: {rmse}\")\n",
        "\n",
        "# Visualize the results\n",
        "plt.figure(figsize=(12, 6))\n",
        "plt.plot(data.index[-len(y_test):], y_test_close, label='True Close Price', color='blue')\n",
        "plt.plot(data.index[-len(y_test):], y_pred_close, label='Predicted Close Price', color='red')\n",
        "plt.xlabel('Date')\n",
        "plt.ylabel('Close Price')\n",
        "plt.title('Stock Price Prediction')\n",
        "plt.legend()\n",
        "plt.show()"
      ],
      "metadata": {
        "id": "Li0ZNYc91Xdk",
        "colab": {
          "base_uri": "https://localhost:8080/",
          "height": 616
        },
        "outputId": "4750fe6a-7b76-431b-e3d4-ff191f75b47b"
      },
      "execution_count": 11,
      "outputs": [
        {
          "output_type": "stream",
          "name": "stdout",
          "text": [
            "54/54 [==============================] - 2s 22ms/step\n",
            "Mean Absolute Error: 7478972.420939129\n",
            "Root Mean Squared Error: 12395129.910482476\n"
          ]
        },
        {
          "output_type": "display_data",
          "data": {
            "text/plain": [
              "<Figure size 1200x600 with 1 Axes>"
            ],
            "image/png": "[encoded data removed]"
          },
          "metadata": {}
        }
      ]
    }
  ]
}